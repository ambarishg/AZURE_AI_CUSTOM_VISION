{
 "cells": [
  {
   "cell_type": "code",
   "execution_count": 1,
   "metadata": {},
   "outputs": [
    {
     "name": "stdout",
     "output_type": "stream",
     "text": [
      "Defaulting to user installation because normal site-packages is not writeable\n",
      "Requirement already satisfied: azure-cognitiveservices-vision-customvision in c:\\users\\ambar\\appdata\\roaming\\python\\python39\\site-packages (3.1.0)\n",
      "Requirement already satisfied: azure-common~=1.1 in c:\\users\\ambar\\appdata\\roaming\\python\\python39\\site-packages (from azure-cognitiveservices-vision-customvision) (1.1.28)\n",
      "Requirement already satisfied: msrest>=0.5.0 in c:\\users\\ambar\\appdata\\roaming\\python\\python39\\site-packages (from azure-cognitiveservices-vision-customvision) (0.7.1)\n",
      "Requirement already satisfied: isodate>=0.6.0 in c:\\users\\ambar\\appdata\\roaming\\python\\python39\\site-packages (from msrest>=0.5.0->azure-cognitiveservices-vision-customvision) (0.6.1)\n",
      "Requirement already satisfied: requests-oauthlib>=0.5.0 in c:\\users\\ambar\\appdata\\roaming\\python\\python39\\site-packages (from msrest>=0.5.0->azure-cognitiveservices-vision-customvision) (1.3.1)\n",
      "Requirement already satisfied: certifi>=2017.4.17 in c:\\users\\ambar\\appdata\\roaming\\python\\python39\\site-packages (from msrest>=0.5.0->azure-cognitiveservices-vision-customvision) (2022.12.7)\n",
      "Requirement already satisfied: azure-core>=1.24.0 in c:\\users\\ambar\\appdata\\roaming\\python\\python39\\site-packages (from msrest>=0.5.0->azure-cognitiveservices-vision-customvision) (1.26.1)\n",
      "Requirement already satisfied: requests~=2.16 in c:\\applications\\anaconda\\lib\\site-packages (from msrest>=0.5.0->azure-cognitiveservices-vision-customvision) (2.28.1)\n",
      "Requirement already satisfied: typing-extensions>=4.0.1 in c:\\applications\\anaconda\\lib\\site-packages (from azure-core>=1.24.0->msrest>=0.5.0->azure-cognitiveservices-vision-customvision) (4.3.0)\n",
      "Requirement already satisfied: six>=1.11.0 in c:\\users\\ambar\\appdata\\roaming\\python\\python39\\site-packages (from azure-core>=1.24.0->msrest>=0.5.0->azure-cognitiveservices-vision-customvision) (1.16.0)\n",
      "Requirement already satisfied: idna<4,>=2.5 in c:\\applications\\anaconda\\lib\\site-packages (from requests~=2.16->msrest>=0.5.0->azure-cognitiveservices-vision-customvision) (3.3)\n",
      "Requirement already satisfied: charset-normalizer<3,>=2 in c:\\applications\\anaconda\\lib\\site-packages (from requests~=2.16->msrest>=0.5.0->azure-cognitiveservices-vision-customvision) (2.0.4)\n",
      "Requirement already satisfied: urllib3<1.27,>=1.21.1 in c:\\users\\ambar\\appdata\\roaming\\python\\python39\\site-packages (from requests~=2.16->msrest>=0.5.0->azure-cognitiveservices-vision-customvision) (1.26.16)\n",
      "Requirement already satisfied: oauthlib>=3.0.0 in c:\\users\\ambar\\appdata\\roaming\\python\\python39\\site-packages (from requests-oauthlib>=0.5.0->msrest>=0.5.0->azure-cognitiveservices-vision-customvision) (3.2.2)\n",
      "Note: you may need to restart the kernel to use updated packages.\n"
     ]
    }
   ],
   "source": [
    "%pip install azure-cognitiveservices-vision-customvision"
   ]
  }
 ],
 "metadata": {
  "kernelspec": {
   "display_name": "base",
   "language": "python",
   "name": "python3"
  },
  "language_info": {
   "codemirror_mode": {
    "name": "ipython",
    "version": 3
   },
   "file_extension": ".py",
   "mimetype": "text/x-python",
   "name": "python",
   "nbconvert_exporter": "python",
   "pygments_lexer": "ipython3",
   "version": "3.9.13"
  },
  "orig_nbformat": 4
 },
 "nbformat": 4,
 "nbformat_minor": 2
}
